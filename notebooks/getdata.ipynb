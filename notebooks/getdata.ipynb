{
 "cells": [
  {
   "cell_type": "code",
   "execution_count": null,
   "metadata": {},
   "outputs": [],
   "source": [
    "from google.cloud import storage\n",
    "import pandas as pd\n",
    "from sklearn import linear_model\n",
    "import numpy as np\n",
    "import joblib\n",
    "import cv2\n",
    "# from wand.image import Image\n",
    "import os\n",
    "import tempfile"
   ]
  },
  {
   "cell_type": "code",
   "execution_count": null,
   "metadata": {},
   "outputs": [],
   "source": [
    "BUCKET_NAME = 'srgan-wagon-project'\n",
    "BUCKET_TRAIN_DATA_PATH = 'datasets/kaggle100-original/'"
   ]
  },
  {
   "cell_type": "code",
   "execution_count": null,
   "metadata": {},
   "outputs": [],
   "source": [
    "x = LR\n",
    "y = HR\n",
    "\n",
    "xtrain"
   ]
  },
  {
   "cell_type": "code",
   "execution_count": null,
   "metadata": {},
   "outputs": [],
   "source": [
    "def download_blob(bucket_name=BUCKET_NAME, prefix='datasets/kaggle100-original/HR/', delimiter='/'):\n",
    "    \"\"\"Downloads a blob from the bucket.\"\"\"\n",
    "\n",
    "    storage_client = storage.Client()\n",
    "    bucket = storage_client.bucket(bucket_name)\n",
    "\n",
    "    blobs = storage_client.list_blobs(bucket_name, prefix=prefix, delimiter=delimiter)\n",
    "\n",
    "    # print(\"Blobs:\")\n",
    "    # for blob in blobs:\n",
    "    #     print(blob.name)\n",
    "\n",
    "    lr_list = []\n",
    "    for blob in blobs:\n",
    "        lr_list.append(blob.name)"
   ]
  },
  {
   "cell_type": "code",
   "execution_count": null,
   "metadata": {},
   "outputs": [],
   "source": [
    "def get_images_gcp(n=10):\n",
    "\n",
    "    client = storage.Client()\n",
    "\n",
    "    bucket = client.bucket(BUCKET_NAME)\n",
    "\n",
    "    blobs = bucket.list_blobs(prefix=STORAGE_LOCATION)\n",
    "    images = []\n",
    "\n",
    "    for blob in blobs:\n",
    "        _, temp_local_filename = tempfile.mkstemp()\n",
    "\n",
    "        # Download file from bucket.\n",
    "        blob.download_to_filename(temp_local_filename)\n",
    "        img_lr = cv2.imread(temp_local_filename)\n",
    "        images.append(img_lr)\n",
    "        os.remove(temp_local_filename)\n",
    "    return np.array(images)"
   ]
  },
  {
   "cell_type": "code",
   "execution_count": null,
   "metadata": {},
   "outputs": [],
   "source": [
    "def preprocess(df):\n",
    "    \"\"\"method that pre-process the data\"\"\"\n",
    "    df[\"distance\"] = compute_distance(df)\n",
    "    X_train = df[[\"distance\"]]\n",
    "    y_train = df[\"fare_amount\"]\n",
    "    return X_train, y_train"
   ]
  },
  {
   "cell_type": "code",
   "execution_count": null,
   "metadata": {},
   "outputs": [],
   "source": [
    "import glob\\n\",\n",
    "import os \\n\",\n",
    "from google.cloud import storage\n",
    "\n",
    "GCS_CLIENT = storage.Client()\n",
    "def upload_from_directory(directory_path: str, dest_bucket_name: str, dest_blob_name: str):\n",
    "    rel_paths = glob.glob(directory_path + '/**', recursive=True)\n",
    "    bucket = GCS_CLIENT.get_bucket(dest_bucket_name)\n",
    "    for local_file in rel_paths:\n",
    "        remote_path = f'{dest_blob_name}/{\\\"/\\\".join(local_file.split(os.sep)[1:])}'\n",
    "        if os.path.isfile(local_file):\n",
    "            blob = bucket.blob(remote_path)\n",
    "        blob.upload_from_filename(local_file)\n",
    "\n",
    "directory_path=\\\"hr_images/\\\"\n",
    "dest_bucket_name= 'srgan-wagon-project'\n",
    "dest_blob_name= 'datasets/flickr25000/hr_images'\n",
    "\n",
    "upload_from_directory(directory_path,dest_bucket_name,dest_blob_name)\n",
    "\n",
    "    \"directory_path=\\\"lr_images/\\\"\\n\",\n",
    "    \"dest_bucket_name= 'srgan-wagon-project'\\n\",\n",
    "    \"dest_blob_name= 'datasets/flickr25000/lr_images'\\n\",\n",
    "    \"\\n\",\n",
    "    \"upload_from_directory(directory_path,dest_bucket_name,dest_blob_name)\""
   ]
  }
 ],
 "metadata": {
  "kernelspec": {
   "display_name": "Python 3.8.12 64-bit ('shims')",
   "language": "python",
   "name": "python3"
  },
  "language_info": {
   "codemirror_mode": {
    "name": "ipython",
    "version": 3
   },
   "file_extension": ".py",
   "mimetype": "text/x-python",
   "name": "python",
   "nbconvert_exporter": "python",
   "pygments_lexer": "ipython3",
   "version": "3.8.12"
  },
  "orig_nbformat": 4,
  "vscode": {
   "interpreter": {
    "hash": "d26b7c0f89d12d86bcf5a1de10e59e02dca6c0d8322902beaf6a0a86f29f53b7"
   }
  }
 },
 "nbformat": 4,
 "nbformat_minor": 2
}
